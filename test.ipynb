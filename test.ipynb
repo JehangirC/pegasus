{
 "cells": [
  {
   "cell_type": "code",
   "execution_count": 1,
   "metadata": {},
   "outputs": [
    {
     "name": "stderr",
     "output_type": "stream",
     "text": [
      "2025-02-25 00:58:49,866 - datasets - INFO - PyTorch version 2.6.0 available.\n"
     ]
    }
   ],
   "source": [
    "from evaluator.deepeval_evaluator import DeepEvalEvaluator\n",
    "from evaluator.ragas_evaluator import RagasEvaluator\n",
    "import pandas as pd"
   ]
  },
  {
   "cell_type": "code",
   "execution_count": 2,
   "metadata": {},
   "outputs": [
    {
     "data": {
      "application/vnd.jupyter.widget-view+json": {
       "model_id": "7957de7d7fa44d96bbb5e4611e465d22",
       "version_major": 2,
       "version_minor": 0
      },
      "text/plain": [
       "Output()"
      ]
     },
     "metadata": {},
     "output_type": "display_data"
    },
    {
     "data": {
      "text/html": [
       "<pre style=\"white-space:pre;overflow-x:auto;line-height:normal;font-family:Menlo,'DejaVu Sans Mono',consolas,'Courier New',monospace\"></pre>\n"
      ],
      "text/plain": []
     },
     "metadata": {},
     "output_type": "display_data"
    },
    {
     "data": {
      "application/vnd.jupyter.widget-view+json": {
       "model_id": "91e1c18476844b6b825642a10ee25c16",
       "version_major": 2,
       "version_minor": 0
      },
      "text/plain": [
       "Output()"
      ]
     },
     "metadata": {},
     "output_type": "display_data"
    },
    {
     "data": {
      "text/html": [
       "<pre style=\"white-space:pre;overflow-x:auto;line-height:normal;font-family:Menlo,'DejaVu Sans Mono',consolas,'Courier New',monospace\"></pre>\n"
      ],
      "text/plain": []
     },
     "metadata": {},
     "output_type": "display_data"
    },
    {
     "data": {
      "application/vnd.jupyter.widget-view+json": {
       "model_id": "f71ba0dce74b4f678137bd35f164dccb",
       "version_major": 2,
       "version_minor": 0
      },
      "text/plain": [
       "Output()"
      ]
     },
     "metadata": {},
     "output_type": "display_data"
    },
    {
     "data": {
      "text/html": [
       "<pre style=\"white-space:pre;overflow-x:auto;line-height:normal;font-family:Menlo,'DejaVu Sans Mono',consolas,'Courier New',monospace\"></pre>\n"
      ],
      "text/plain": []
     },
     "metadata": {},
     "output_type": "display_data"
    },
    {
     "data": {
      "application/vnd.jupyter.widget-view+json": {
       "model_id": "f7894b48a127445f8fe25e554edbcaeb",
       "version_major": 2,
       "version_minor": 0
      },
      "text/plain": [
       "Output()"
      ]
     },
     "metadata": {},
     "output_type": "display_data"
    },
    {
     "data": {
      "text/html": [
       "<pre style=\"white-space:pre;overflow-x:auto;line-height:normal;font-family:Menlo,'DejaVu Sans Mono',consolas,'Courier New',monospace\"></pre>\n"
      ],
      "text/plain": []
     },
     "metadata": {},
     "output_type": "display_data"
    },
    {
     "name": "stdout",
     "output_type": "stream",
     "text": [
      "DeepEval Results: {0: [EvaluationResult(metric_name='answer_relevancy', score=1.0, explanation='DeepEval AnswerRelevancyMetric score: 1.000', reason='The score is 1.00 because the answer is perfectly relevant and addresses the question directly!', passed=True, threshold=0.7), EvaluationResult(metric_name='faithfulness', score=1.0, explanation='DeepEval FaithfulnessMetric score: 1.000', reason='The score is 1.00 because there are no contradictions, indicating the output is perfectly faithful to the retrieval context! Keep up the great work!', passed=True, threshold=0.7)], 1: [EvaluationResult(metric_name='answer_relevancy', score=1.0, explanation='DeepEval AnswerRelevancyMetric score: 1.000', reason='The score is 1.00 because there are no irrelevant statements, indicating a perfectly relevant response!', passed=True, threshold=0.7), EvaluationResult(metric_name='faithfulness', score=1.0, explanation='DeepEval FaithfulnessMetric score: 1.000', reason='The score is 1.00 because there are no contradictions, indicating the output is perfectly faithful to the retrieval context! Keep up the great work!', passed=True, threshold=0.7)]}\n"
     ]
    },
    {
     "data": {
      "application/vnd.jupyter.widget-view+json": {
       "model_id": "a942a27904074f1da854f9ca8174b4ba",
       "version_major": 2,
       "version_minor": 0
      },
      "text/plain": [
       "Evaluating:   0%|          | 0/4 [00:00<?, ?it/s]"
      ]
     },
     "metadata": {},
     "output_type": "display_data"
    },
    {
     "name": "stdout",
     "output_type": "stream",
     "text": [
      "Ragas Results: {0: [EvaluationResult(metric_name='answer_relevancy', score=0.9999999999999992, explanation='Ragas answer_relevancy score: 1.000', reason='Score meets threshold of 0.7', passed=True, threshold=0.7), EvaluationResult(metric_name='context_recall', score=1.0, explanation='Ragas context_recall score: 1.000', reason='Score meets threshold of 0.7', passed=True, threshold=0.7)], 1: [EvaluationResult(metric_name='answer_relevancy', score=0.9115815858962241, explanation='Ragas answer_relevancy score: 0.912', reason='Score meets threshold of 0.7', passed=True, threshold=0.7), EvaluationResult(metric_name='context_recall', score=1.0, explanation='Ragas context_recall score: 1.000', reason='Score meets threshold of 0.7', passed=True, threshold=0.7)]}\n"
     ]
    }
   ],
   "source": [
    "# Example Usage (adjust based on your actual code)\n",
    "deepeval_evaluator = DeepEvalEvaluator(metrics=[\"answer_relevancy\", \"faithfulness\"])\n",
    "ragas_evaluator = RagasEvaluator(metrics=[\"answer_relevancy\", \"context_recall\"])\n",
    "\n",
    "# Create a sample DataFrame (replace with your actual data)\n",
    "data = {\n",
    "    \"question\": [\"What is the capital of France?\", \"What is the highest mountain?\"],\n",
    "    \"answer\": [\"Paris\", \"Mount Everest\"],\n",
    "    \"context\": [\"France is a country in Europe. Paris is its capital.\", \"Mount Everest is in the Himalayas.\"],\n",
    "    \"expected_answer\": [\"Paris is the capital of France.\", \"Mount Everest is the highest mountain in the world.\"]\n",
    "}\n",
    "df = pd.DataFrame(data)\n",
    "\n",
    "# Evaluate using DeepEval\n",
    "deepeval_results = deepeval_evaluator.evaluate(df)\n",
    "print(\"DeepEval Results:\", deepeval_results)\n",
    "\n",
    "# Evaluate using Ragas\n",
    "ragas_results = ragas_evaluator.evaluate(df)\n",
    "print(\"Ragas Results:\", ragas_results)"
   ]
  },
  {
   "cell_type": "code",
   "execution_count": 3,
   "metadata": {},
   "outputs": [
    {
     "name": "stdout",
     "output_type": "stream",
     "text": [
      "Error running DeepEval evaluation: name 'deepeval_evaluator' is not defined\n",
      "Full traceback:\n"
     ]
    },
    {
     "name": "stderr",
     "output_type": "stream",
     "text": [
      "Traceback (most recent call last):\n",
      "  File \"c:\\Users\\J\\Desktop\\llm_evaluator\\main.py\", line 174, in <module>\n",
      "    deepeval_results = deepeval_evaluator.evaluate(df)\n",
      "                       ^^^^^^^^^^^^^^^^^^\n",
      "NameError: name 'deepeval_evaluator' is not defined. Did you mean: 'DeepEvalEvaluator'?\n",
      "Repo card metadata block was not found. Setting CardData to empty.\n",
      "2025-02-25 00:59:02,233 - huggingface_hub.repocard - WARNING - Repo card metadata block was not found. Setting CardData to empty.\n"
     ]
    },
    {
     "data": {
      "application/vnd.jupyter.widget-view+json": {
       "model_id": "177df2438aa4442eb87af9871507fdcc",
       "version_major": 2,
       "version_minor": 0
      },
      "text/plain": [
       "Evaluating:   0%|          | 0/20 [00:00<?, ?it/s]"
      ]
     },
     "metadata": {},
     "output_type": "display_data"
    },
    {
     "name": "stderr",
     "output_type": "stream",
     "text": [
      "2025-02-25 00:59:03,099 - ragas.metrics._context_recall - WARNING - The LLM did not return a valid classification.\n",
      "2025-02-25 00:59:03,116 - ragas.metrics._context_recall - WARNING - The LLM did not return a valid classification.\n",
      "2025-02-25 00:59:05,215 - langchain_core.language_models.llms - WARNING - Retrying langchain_google_vertexai.llms._acompletion_with_retry.<locals>._acompletion_with_retry_inner in 4.0 seconds as it raised ResourceExhausted: 429 Resource exhausted. Please try again later. Please refer to https://cloud.google.com/vertex-ai/generative-ai/docs/error-code-429 for more details..\n",
      "2025-02-25 00:59:09,277 - langchain_core.language_models.llms - WARNING - Retrying langchain_google_vertexai.llms._acompletion_with_retry.<locals>._acompletion_with_retry_inner in 4.0 seconds as it raised ResourceExhausted: 429 Resource exhausted. Please try again later. Please refer to https://cloud.google.com/vertex-ai/generative-ai/docs/error-code-429 for more details..\n",
      "2025-02-25 00:59:13,338 - langchain_core.language_models.llms - WARNING - Retrying langchain_google_vertexai.llms._acompletion_with_retry.<locals>._acompletion_with_retry_inner in 4.0 seconds as it raised ResourceExhausted: 429 Resource exhausted. Please try again later. Please refer to https://cloud.google.com/vertex-ai/generative-ai/docs/error-code-429 for more details..\n"
     ]
    },
    {
     "data": {
      "text/html": [
       "<pre style=\"white-space:pre;overflow-x:auto;line-height:normal;font-family:Menlo,'DejaVu Sans Mono',consolas,'Courier New',monospace\"><span style=\"color: #800080; text-decoration-color: #800080; font-weight: bold\">╭─────────────────────────────────────────────────────────────────────────────────────────────────────────────────╮</span>\n",
       "<span style=\"color: #800080; text-decoration-color: #800080; font-weight: bold\">│ Ragas Evaluation Results                                                                                        │</span>\n",
       "<span style=\"color: #800080; text-decoration-color: #800080; font-weight: bold\">╰─────────────────────────────────────────────────────────────────────────────────────────────────────────────────╯</span>\n",
       "</pre>\n"
      ],
      "text/plain": [
       "\u001b[1;35m╭─────────────────────────────────────────────────────────────────────────────────────────────────────────────────╮\u001b[0m\n",
       "\u001b[1;35m│\u001b[0m\u001b[1;35m \u001b[0m\u001b[1;35mRagas Evaluation Results\u001b[0m\u001b[1;35m                                                                                       \u001b[0m\u001b[1;35m \u001b[0m\u001b[1;35m│\u001b[0m\n",
       "\u001b[1;35m╰─────────────────────────────────────────────────────────────────────────────────────────────────────────────────╯\u001b[0m\n"
      ]
     },
     "metadata": {},
     "output_type": "display_data"
    },
    {
     "data": {
      "text/html": [
       "<pre style=\"white-space:pre;overflow-x:auto;line-height:normal;font-family:Menlo,'DejaVu Sans Mono',consolas,'Courier New',monospace\">┏━━━━━━━━━━━━━━━━━━┳━━━━━━━━━━━━━━━┳━━━━━━━━┓\n",
       "┃<span style=\"color: #008080; text-decoration-color: #008080; font-weight: bold\"> Metric           </span>┃<span style=\"color: #008080; text-decoration-color: #008080; font-weight: bold\"> Average Score </span>┃<span style=\"color: #008080; text-decoration-color: #008080; font-weight: bold\"> Status </span>┃\n",
       "┡━━━━━━━━━━━━━━━━━━╇━━━━━━━━━━━━━━━╇━━━━━━━━┩\n",
       "│<span style=\"color: #7f7f7f; text-decoration-color: #7f7f7f\"> answer_relevancy </span>│         0.955 │  <span style=\"color: #008000; text-decoration-color: #008000\">PASS</span>  │\n",
       "│<span style=\"color: #7f7f7f; text-decoration-color: #7f7f7f\"> context_recall   </span>│           nan │  <span style=\"color: #800000; text-decoration-color: #800000\">FAIL</span>  │\n",
       "└──────────────────┴───────────────┴────────┘\n",
       "</pre>\n"
      ],
      "text/plain": [
       "┏━━━━━━━━━━━━━━━━━━┳━━━━━━━━━━━━━━━┳━━━━━━━━┓\n",
       "┃\u001b[1;36m \u001b[0m\u001b[1;36mMetric          \u001b[0m\u001b[1;36m \u001b[0m┃\u001b[1;36m \u001b[0m\u001b[1;36mAverage Score\u001b[0m\u001b[1;36m \u001b[0m┃\u001b[1;36m \u001b[0m\u001b[1;36mStatus\u001b[0m\u001b[1;36m \u001b[0m┃\n",
       "┡━━━━━━━━━━━━━━━━━━╇━━━━━━━━━━━━━━━╇━━━━━━━━┩\n",
       "│\u001b[2m \u001b[0m\u001b[2manswer_relevancy\u001b[0m\u001b[2m \u001b[0m│         0.955 │  \u001b[32mPASS\u001b[0m  │\n",
       "│\u001b[2m \u001b[0m\u001b[2mcontext_recall  \u001b[0m\u001b[2m \u001b[0m│           nan │  \u001b[31mFAIL\u001b[0m  │\n",
       "└──────────────────┴───────────────┴────────┘\n"
      ]
     },
     "metadata": {},
     "output_type": "display_data"
    },
    {
     "data": {
      "application/vnd.jupyter.widget-view+json": {
       "model_id": "1b2e6b2344424357bd71ea69f075fefe",
       "version_major": 2,
       "version_minor": 0
      },
      "text/plain": [
       "Output()"
      ]
     },
     "metadata": {},
     "output_type": "display_data"
    },
    {
     "name": "stderr",
     "output_type": "stream",
     "text": [
      "2025-02-25 00:59:20,322 - langchain_core.language_models.llms - WARNING - Retrying langchain_google_vertexai.chat_models._completion_with_retry.<locals>._completion_with_retry_inner in 4.0 seconds as it raised ResourceExhausted: 429 Resource exhausted. Please try again later. Please refer to https://cloud.google.com/vertex-ai/generative-ai/docs/error-code-429 for more details..\n"
     ]
    },
    {
     "name": "stderr",
     "output_type": "stream",
     "text": [
      "2025-02-25 00:59:24,404 - langchain_core.language_models.llms - WARNING - Retrying langchain_google_vertexai.chat_models._completion_with_retry.<locals>._completion_with_retry_inner in 4.0 seconds as it raised ResourceExhausted: 429 Resource exhausted. Please try again later. Please refer to https://cloud.google.com/vertex-ai/generative-ai/docs/error-code-429 for more details..\n"
     ]
    },
    {
     "name": "stderr",
     "output_type": "stream",
     "text": [
      "2025-02-25 00:59:28,476 - langchain_core.language_models.llms - WARNING - Retrying langchain_google_vertexai.chat_models._completion_with_retry.<locals>._completion_with_retry_inner in 4.0 seconds as it raised ResourceExhausted: 429 Resource exhausted. Please try again later. Please refer to https://cloud.google.com/vertex-ai/generative-ai/docs/error-code-429 for more details..\n"
     ]
    },
    {
     "name": "stderr",
     "output_type": "stream",
     "text": [
      "2025-02-25 00:59:32,526 - langchain_core.language_models.llms - WARNING - Retrying langchain_google_vertexai.chat_models._completion_with_retry.<locals>._completion_with_retry_inner in 8.0 seconds as it raised ResourceExhausted: 429 Resource exhausted. Please try again later. Please refer to https://cloud.google.com/vertex-ai/generative-ai/docs/error-code-429 for more details..\n"
     ]
    },
    {
     "name": "stderr",
     "output_type": "stream",
     "text": [
      "2025-02-25 00:59:40,581 - langchain_core.language_models.llms - WARNING - Retrying langchain_google_vertexai.chat_models._completion_with_retry.<locals>._completion_with_retry_inner in 10.0 seconds as it raised ResourceExhausted: 429 Resource exhausted. Please try again later. Please refer to https://cloud.google.com/vertex-ai/generative-ai/docs/error-code-429 for more details..\n"
     ]
    },
    {
     "data": {
      "text/html": [
       "<pre style=\"white-space:pre;overflow-x:auto;line-height:normal;font-family:Menlo,'DejaVu Sans Mono',consolas,'Courier New',monospace\"></pre>\n"
      ],
      "text/plain": []
     },
     "metadata": {},
     "output_type": "display_data"
    },
    {
     "data": {
      "application/vnd.jupyter.widget-view+json": {
       "model_id": "a7be4a54e5c44511b2c9f9b1bfbc2625",
       "version_major": 2,
       "version_minor": 0
      },
      "text/plain": [
       "Output()"
      ]
     },
     "metadata": {},
     "output_type": "display_data"
    },
    {
     "name": "stderr",
     "output_type": "stream",
     "text": [
      "2025-02-25 00:59:50,684 - langchain_core.language_models.llms - WARNING - Retrying langchain_google_vertexai.chat_models._completion_with_retry.<locals>._completion_with_retry_inner in 4.0 seconds as it raised ResourceExhausted: 429 Resource exhausted. Please try again later. Please refer to https://cloud.google.com/vertex-ai/generative-ai/docs/error-code-429 for more details..\n"
     ]
    },
    {
     "name": "stderr",
     "output_type": "stream",
     "text": [
      "2025-02-25 00:59:54,858 - langchain_core.language_models.llms - WARNING - Retrying langchain_google_vertexai.chat_models._completion_with_retry.<locals>._completion_with_retry_inner in 4.0 seconds as it raised ResourceExhausted: 429 Resource exhausted. Please try again later. Please refer to https://cloud.google.com/vertex-ai/generative-ai/docs/error-code-429 for more details..\n"
     ]
    },
    {
     "name": "stderr",
     "output_type": "stream",
     "text": [
      "2025-02-25 00:59:58,903 - langchain_core.language_models.llms - WARNING - Retrying langchain_google_vertexai.chat_models._completion_with_retry.<locals>._completion_with_retry_inner in 4.0 seconds as it raised ResourceExhausted: 429 Resource exhausted. Please try again later. Please refer to https://cloud.google.com/vertex-ai/generative-ai/docs/error-code-429 for more details..\n"
     ]
    },
    {
     "name": "stderr",
     "output_type": "stream",
     "text": [
      "2025-02-25 01:00:02,953 - langchain_core.language_models.llms - WARNING - Retrying langchain_google_vertexai.chat_models._completion_with_retry.<locals>._completion_with_retry_inner in 8.0 seconds as it raised ResourceExhausted: 429 Resource exhausted. Please try again later. Please refer to https://cloud.google.com/vertex-ai/generative-ai/docs/error-code-429 for more details..\n"
     ]
    },
    {
     "data": {
      "text/html": [
       "<pre style=\"white-space:pre;overflow-x:auto;line-height:normal;font-family:Menlo,'DejaVu Sans Mono',consolas,'Courier New',monospace\"></pre>\n"
      ],
      "text/plain": []
     },
     "metadata": {},
     "output_type": "display_data"
    },
    {
     "data": {
      "application/vnd.jupyter.widget-view+json": {
       "model_id": "a6b6bab554d544a7bab4ab2d16973142",
       "version_major": 2,
       "version_minor": 0
      },
      "text/plain": [
       "Output()"
      ]
     },
     "metadata": {},
     "output_type": "display_data"
    },
    {
     "data": {
      "text/html": [
       "<pre style=\"white-space:pre;overflow-x:auto;line-height:normal;font-family:Menlo,'DejaVu Sans Mono',consolas,'Courier New',monospace\"></pre>\n"
      ],
      "text/plain": []
     },
     "metadata": {},
     "output_type": "display_data"
    },
    {
     "data": {
      "application/vnd.jupyter.widget-view+json": {
       "model_id": "d8a19db43daa4da48d63d90f0fb041d2",
       "version_major": 2,
       "version_minor": 0
      },
      "text/plain": [
       "Output()"
      ]
     },
     "metadata": {},
     "output_type": "display_data"
    },
    {
     "data": {
      "text/html": [
       "<pre style=\"white-space:pre;overflow-x:auto;line-height:normal;font-family:Menlo,'DejaVu Sans Mono',consolas,'Courier New',monospace\"></pre>\n"
      ],
      "text/plain": []
     },
     "metadata": {},
     "output_type": "display_data"
    },
    {
     "data": {
      "application/vnd.jupyter.widget-view+json": {
       "model_id": "9a759d6e835c4a658b4a92c799f91b2c",
       "version_major": 2,
       "version_minor": 0
      },
      "text/plain": [
       "Output()"
      ]
     },
     "metadata": {},
     "output_type": "display_data"
    },
    {
     "data": {
      "text/html": [
       "<pre style=\"white-space:pre;overflow-x:auto;line-height:normal;font-family:Menlo,'DejaVu Sans Mono',consolas,'Courier New',monospace\"></pre>\n"
      ],
      "text/plain": []
     },
     "metadata": {},
     "output_type": "display_data"
    },
    {
     "data": {
      "application/vnd.jupyter.widget-view+json": {
       "model_id": "793dee7d8c754fa091c726bb524999dd",
       "version_major": 2,
       "version_minor": 0
      },
      "text/plain": [
       "Output()"
      ]
     },
     "metadata": {},
     "output_type": "display_data"
    },
    {
     "data": {
      "text/html": [
       "<pre style=\"white-space:pre;overflow-x:auto;line-height:normal;font-family:Menlo,'DejaVu Sans Mono',consolas,'Courier New',monospace\"></pre>\n"
      ],
      "text/plain": []
     },
     "metadata": {},
     "output_type": "display_data"
    },
    {
     "data": {
      "application/vnd.jupyter.widget-view+json": {
       "model_id": "e8426917f8114d18b7279ef2c389215e",
       "version_major": 2,
       "version_minor": 0
      },
      "text/plain": [
       "Output()"
      ]
     },
     "metadata": {},
     "output_type": "display_data"
    },
    {
     "data": {
      "text/html": [
       "<pre style=\"white-space:pre;overflow-x:auto;line-height:normal;font-family:Menlo,'DejaVu Sans Mono',consolas,'Courier New',monospace\"></pre>\n"
      ],
      "text/plain": []
     },
     "metadata": {},
     "output_type": "display_data"
    },
    {
     "data": {
      "application/vnd.jupyter.widget-view+json": {
       "model_id": "3a600dacb18542509820a79a45d9d983",
       "version_major": 2,
       "version_minor": 0
      },
      "text/plain": [
       "Output()"
      ]
     },
     "metadata": {},
     "output_type": "display_data"
    },
    {
     "data": {
      "text/html": [
       "<pre style=\"white-space:pre;overflow-x:auto;line-height:normal;font-family:Menlo,'DejaVu Sans Mono',consolas,'Courier New',monospace\"></pre>\n"
      ],
      "text/plain": []
     },
     "metadata": {},
     "output_type": "display_data"
    },
    {
     "data": {
      "application/vnd.jupyter.widget-view+json": {
       "model_id": "2c2f0c5db9e048dbb92d17c79597f0b7",
       "version_major": 2,
       "version_minor": 0
      },
      "text/plain": [
       "Output()"
      ]
     },
     "metadata": {},
     "output_type": "display_data"
    },
    {
     "data": {
      "text/html": [
       "<pre style=\"white-space:pre;overflow-x:auto;line-height:normal;font-family:Menlo,'DejaVu Sans Mono',consolas,'Courier New',monospace\"></pre>\n"
      ],
      "text/plain": []
     },
     "metadata": {},
     "output_type": "display_data"
    },
    {
     "data": {
      "application/vnd.jupyter.widget-view+json": {
       "model_id": "8ac79679c42947b1a2aaac73113e9a3d",
       "version_major": 2,
       "version_minor": 0
      },
      "text/plain": [
       "Output()"
      ]
     },
     "metadata": {},
     "output_type": "display_data"
    },
    {
     "data": {
      "text/html": [
       "<pre style=\"white-space:pre;overflow-x:auto;line-height:normal;font-family:Menlo,'DejaVu Sans Mono',consolas,'Courier New',monospace\"></pre>\n"
      ],
      "text/plain": []
     },
     "metadata": {},
     "output_type": "display_data"
    },
    {
     "data": {
      "application/vnd.jupyter.widget-view+json": {
       "model_id": "a31ffa25d71d443d8fd75943b2efe394",
       "version_major": 2,
       "version_minor": 0
      },
      "text/plain": [
       "Output()"
      ]
     },
     "metadata": {},
     "output_type": "display_data"
    },
    {
     "data": {
      "text/html": [
       "<pre style=\"white-space:pre;overflow-x:auto;line-height:normal;font-family:Menlo,'DejaVu Sans Mono',consolas,'Courier New',monospace\"></pre>\n"
      ],
      "text/plain": []
     },
     "metadata": {},
     "output_type": "display_data"
    },
    {
     "data": {
      "application/vnd.jupyter.widget-view+json": {
       "model_id": "3bf4c01d4aad4eb2861fba23b8c25f7a",
       "version_major": 2,
       "version_minor": 0
      },
      "text/plain": [
       "Output()"
      ]
     },
     "metadata": {},
     "output_type": "display_data"
    },
    {
     "name": "stderr",
     "output_type": "stream",
     "text": [
      "2025-02-25 01:00:47,078 - langchain_core.language_models.llms - WARNING - Retrying langchain_google_vertexai.chat_models._completion_with_retry.<locals>._completion_with_retry_inner in 4.0 seconds as it raised ResourceExhausted: 429 Resource exhausted. Please try again later. Please refer to https://cloud.google.com/vertex-ai/generative-ai/docs/error-code-429 for more details..\n"
     ]
    },
    {
     "name": "stderr",
     "output_type": "stream",
     "text": [
      "2025-02-25 01:00:51,127 - langchain_core.language_models.llms - WARNING - Retrying langchain_google_vertexai.chat_models._completion_with_retry.<locals>._completion_with_retry_inner in 4.0 seconds as it raised ResourceExhausted: 429 Resource exhausted. Please try again later. Please refer to https://cloud.google.com/vertex-ai/generative-ai/docs/error-code-429 for more details..\n"
     ]
    },
    {
     "name": "stderr",
     "output_type": "stream",
     "text": [
      "2025-02-25 01:00:55,297 - langchain_core.language_models.llms - WARNING - Retrying langchain_google_vertexai.chat_models._completion_with_retry.<locals>._completion_with_retry_inner in 4.0 seconds as it raised ResourceExhausted: 429 Resource exhausted. Please try again later. Please refer to https://cloud.google.com/vertex-ai/generative-ai/docs/error-code-429 for more details..\n"
     ]
    },
    {
     "name": "stderr",
     "output_type": "stream",
     "text": [
      "2025-02-25 01:00:59,346 - langchain_core.language_models.llms - WARNING - Retrying langchain_google_vertexai.chat_models._completion_with_retry.<locals>._completion_with_retry_inner in 8.0 seconds as it raised ResourceExhausted: 429 Resource exhausted. Please try again later. Please refer to https://cloud.google.com/vertex-ai/generative-ai/docs/error-code-429 for more details..\n"
     ]
    },
    {
     "name": "stderr",
     "output_type": "stream",
     "text": [
      "2025-02-25 01:01:07,397 - langchain_core.language_models.llms - WARNING - Retrying langchain_google_vertexai.chat_models._completion_with_retry.<locals>._completion_with_retry_inner in 10.0 seconds as it raised ResourceExhausted: 429 Resource exhausted. Please try again later. Please refer to https://cloud.google.com/vertex-ai/generative-ai/docs/error-code-429 for more details..\n"
     ]
    },
    {
     "data": {
      "text/html": [
       "<pre style=\"white-space:pre;overflow-x:auto;line-height:normal;font-family:Menlo,'DejaVu Sans Mono',consolas,'Courier New',monospace\"></pre>\n"
      ],
      "text/plain": []
     },
     "metadata": {},
     "output_type": "display_data"
    },
    {
     "data": {
      "application/vnd.jupyter.widget-view+json": {
       "model_id": "f72f05bf55c743b6a0802ed092e67fd5",
       "version_major": 2,
       "version_minor": 0
      },
      "text/plain": [
       "Output()"
      ]
     },
     "metadata": {},
     "output_type": "display_data"
    },
    {
     "data": {
      "text/html": [
       "<pre style=\"white-space:pre;overflow-x:auto;line-height:normal;font-family:Menlo,'DejaVu Sans Mono',consolas,'Courier New',monospace\"></pre>\n"
      ],
      "text/plain": []
     },
     "metadata": {},
     "output_type": "display_data"
    },
    {
     "data": {
      "application/vnd.jupyter.widget-view+json": {
       "model_id": "d5d6a922794343d9acf82962a89fa97d",
       "version_major": 2,
       "version_minor": 0
      },
      "text/plain": [
       "Output()"
      ]
     },
     "metadata": {},
     "output_type": "display_data"
    },
    {
     "data": {
      "text/html": [
       "<pre style=\"white-space:pre;overflow-x:auto;line-height:normal;font-family:Menlo,'DejaVu Sans Mono',consolas,'Courier New',monospace\"></pre>\n"
      ],
      "text/plain": []
     },
     "metadata": {},
     "output_type": "display_data"
    },
    {
     "data": {
      "application/vnd.jupyter.widget-view+json": {
       "model_id": "f2b700c163b944c1b13ee439b19d7b98",
       "version_major": 2,
       "version_minor": 0
      },
      "text/plain": [
       "Output()"
      ]
     },
     "metadata": {},
     "output_type": "display_data"
    },
    {
     "data": {
      "text/html": [
       "<pre style=\"white-space:pre;overflow-x:auto;line-height:normal;font-family:Menlo,'DejaVu Sans Mono',consolas,'Courier New',monospace\"></pre>\n"
      ],
      "text/plain": []
     },
     "metadata": {},
     "output_type": "display_data"
    },
    {
     "data": {
      "application/vnd.jupyter.widget-view+json": {
       "model_id": "8a25227e278d4782ad98a29b15ed3d4d",
       "version_major": 2,
       "version_minor": 0
      },
      "text/plain": [
       "Output()"
      ]
     },
     "metadata": {},
     "output_type": "display_data"
    },
    {
     "data": {
      "text/html": [
       "<pre style=\"white-space:pre;overflow-x:auto;line-height:normal;font-family:Menlo,'DejaVu Sans Mono',consolas,'Courier New',monospace\"></pre>\n"
      ],
      "text/plain": []
     },
     "metadata": {},
     "output_type": "display_data"
    },
    {
     "data": {
      "application/vnd.jupyter.widget-view+json": {
       "model_id": "77cc0e166b7e467697ca785578a29ee4",
       "version_major": 2,
       "version_minor": 0
      },
      "text/plain": [
       "Output()"
      ]
     },
     "metadata": {},
     "output_type": "display_data"
    },
    {
     "data": {
      "text/html": [
       "<pre style=\"white-space:pre;overflow-x:auto;line-height:normal;font-family:Menlo,'DejaVu Sans Mono',consolas,'Courier New',monospace\"></pre>\n"
      ],
      "text/plain": []
     },
     "metadata": {},
     "output_type": "display_data"
    },
    {
     "data": {
      "application/vnd.jupyter.widget-view+json": {
       "model_id": "daeee868524947688e1bc30f1f459d9c",
       "version_major": 2,
       "version_minor": 0
      },
      "text/plain": [
       "Output()"
      ]
     },
     "metadata": {},
     "output_type": "display_data"
    },
    {
     "data": {
      "text/html": [
       "<pre style=\"white-space:pre;overflow-x:auto;line-height:normal;font-family:Menlo,'DejaVu Sans Mono',consolas,'Courier New',monospace\"></pre>\n"
      ],
      "text/plain": []
     },
     "metadata": {},
     "output_type": "display_data"
    },
    {
     "data": {
      "application/vnd.jupyter.widget-view+json": {
       "model_id": "0044dc7319ac4a5eb11f86add67d2ab2",
       "version_major": 2,
       "version_minor": 0
      },
      "text/plain": [
       "Output()"
      ]
     },
     "metadata": {},
     "output_type": "display_data"
    },
    {
     "data": {
      "text/html": [
       "<pre style=\"white-space:pre;overflow-x:auto;line-height:normal;font-family:Menlo,'DejaVu Sans Mono',consolas,'Courier New',monospace\"></pre>\n"
      ],
      "text/plain": []
     },
     "metadata": {},
     "output_type": "display_data"
    },
    {
     "data": {
      "application/vnd.jupyter.widget-view+json": {
       "model_id": "39c807748a094fc396d1244218be05d9",
       "version_major": 2,
       "version_minor": 0
      },
      "text/plain": [
       "Output()"
      ]
     },
     "metadata": {},
     "output_type": "display_data"
    },
    {
     "data": {
      "text/html": [
       "<pre style=\"white-space:pre;overflow-x:auto;line-height:normal;font-family:Menlo,'DejaVu Sans Mono',consolas,'Courier New',monospace\"></pre>\n"
      ],
      "text/plain": []
     },
     "metadata": {},
     "output_type": "display_data"
    },
    {
     "data": {
      "text/html": [
       "<pre style=\"white-space:pre;overflow-x:auto;line-height:normal;font-family:Menlo,'DejaVu Sans Mono',consolas,'Courier New',monospace\"><span style=\"color: #800080; text-decoration-color: #800080; font-weight: bold\">╭─────────────────────────────────────────────────────────────────────────────────────────────────────────────────╮</span>\n",
       "<span style=\"color: #800080; text-decoration-color: #800080; font-weight: bold\">│ DeepEval Evaluation Results                                                                                     │</span>\n",
       "<span style=\"color: #800080; text-decoration-color: #800080; font-weight: bold\">╰─────────────────────────────────────────────────────────────────────────────────────────────────────────────────╯</span>\n",
       "</pre>\n"
      ],
      "text/plain": [
       "\u001b[1;35m╭─────────────────────────────────────────────────────────────────────────────────────────────────────────────────╮\u001b[0m\n",
       "\u001b[1;35m│\u001b[0m\u001b[1;35m \u001b[0m\u001b[1;35mDeepEval Evaluation Results\u001b[0m\u001b[1;35m                                                                                    \u001b[0m\u001b[1;35m \u001b[0m\u001b[1;35m│\u001b[0m\n",
       "\u001b[1;35m╰─────────────────────────────────────────────────────────────────────────────────────────────────────────────────╯\u001b[0m\n"
      ]
     },
     "metadata": {},
     "output_type": "display_data"
    },
    {
     "data": {
      "text/html": [
       "<pre style=\"white-space:pre;overflow-x:auto;line-height:normal;font-family:Menlo,'DejaVu Sans Mono',consolas,'Courier New',monospace\">┏━━━━━━━━━━━━━━━━━━┳━━━━━━━━━━━━━━━┳━━━━━━━━┓\n",
       "┃<span style=\"color: #008080; text-decoration-color: #008080; font-weight: bold\"> Metric           </span>┃<span style=\"color: #008080; text-decoration-color: #008080; font-weight: bold\"> Average Score </span>┃<span style=\"color: #008080; text-decoration-color: #008080; font-weight: bold\"> Status </span>┃\n",
       "┡━━━━━━━━━━━━━━━━━━╇━━━━━━━━━━━━━━━╇━━━━━━━━┩\n",
       "│<span style=\"color: #7f7f7f; text-decoration-color: #7f7f7f\"> answer_relevancy </span>│         0.783 │  <span style=\"color: #008000; text-decoration-color: #008000\">PASS</span>  │\n",
       "│<span style=\"color: #7f7f7f; text-decoration-color: #7f7f7f\"> faithfulness     </span>│         1.000 │  <span style=\"color: #008000; text-decoration-color: #008000\">PASS</span>  │\n",
       "└──────────────────┴───────────────┴────────┘\n",
       "</pre>\n"
      ],
      "text/plain": [
       "┏━━━━━━━━━━━━━━━━━━┳━━━━━━━━━━━━━━━┳━━━━━━━━┓\n",
       "┃\u001b[1;36m \u001b[0m\u001b[1;36mMetric          \u001b[0m\u001b[1;36m \u001b[0m┃\u001b[1;36m \u001b[0m\u001b[1;36mAverage Score\u001b[0m\u001b[1;36m \u001b[0m┃\u001b[1;36m \u001b[0m\u001b[1;36mStatus\u001b[0m\u001b[1;36m \u001b[0m┃\n",
       "┡━━━━━━━━━━━━━━━━━━╇━━━━━━━━━━━━━━━╇━━━━━━━━┩\n",
       "│\u001b[2m \u001b[0m\u001b[2manswer_relevancy\u001b[0m\u001b[2m \u001b[0m│         0.783 │  \u001b[32mPASS\u001b[0m  │\n",
       "│\u001b[2m \u001b[0m\u001b[2mfaithfulness    \u001b[0m\u001b[2m \u001b[0m│         1.000 │  \u001b[32mPASS\u001b[0m  │\n",
       "└──────────────────┴───────────────┴────────┘\n"
      ]
     },
     "metadata": {},
     "output_type": "display_data"
    }
   ],
   "source": [
    "from evaluator.deepeval_evaluator import DeepEvalEvaluator\n",
    "from evaluator.ragas_evaluator import RagasEvaluator\n",
    "import pandas as pd\n",
    "from main import LLMEvaluator\n",
    "\n",
    "\n",
    "    \n",
    "from datasets import load_dataset\n",
    "\n",
    "amnesty_qa = load_dataset(\"explodinggradients/amnesty_qa\", \"english_v2\", trust_remote_code=True)\n",
    "df = pd.DataFrame(amnesty_qa[\"eval\"].select(range(10)))\n",
    "\n",
    "# Initialize evaluator for Ragas\n",
    "ragas_evaluator = LLMEvaluator(evaluator_type=\"ragas\", metrics=[\"answer_relevancy\", \"context_recall\"] )\n",
    "\n",
    "# Run Ragas evaluation\n",
    "ragas_results = ragas_evaluator.evaluate(df)\n",
    "    \n",
    " # Display Ragas results using rich formatting\n",
    "ragas_evaluator.display_results(ragas_results, \"Ragas Evaluation Results\")\n",
    "\n",
    "# Initialize evaluator for DeepEval\n",
    "deepeval_evaluator = LLMEvaluator(evaluator_type=\"deepeval\", metrics=[\"answer_relevancy\", \"faithfulness\"])\n",
    "\n",
    "# Run DeepEval evaluation\n",
    "deepeval_results = deepeval_evaluator.evaluate(df)\n",
    "    \n",
    "# Display DeepEval results using rich formatting\n",
    "deepeval_evaluator.display_results(deepeval_results, \"DeepEval Evaluation Results\")"
   ]
  },
  {
   "cell_type": "code",
   "execution_count": 4,
   "metadata": {},
   "outputs": [
    {
     "name": "stderr",
     "output_type": "stream",
     "text": [
      "Repo card metadata block was not found. Setting CardData to empty.\n",
      "2025-02-25 01:42:14,838 - huggingface_hub.repocard - WARNING - Repo card metadata block was not found. Setting CardData to empty.\n",
      "2025-02-25 01:42:14,838 - huggingface_hub.repocard - WARNING - Repo card metadata block was not found. Setting CardData to empty.\n"
     ]
    }
   ],
   "source": [
    "import pandas as pd\n",
    "from main import LLMEvaluator\n",
    "\n",
    "\n",
    "    \n",
    "from datasets import load_dataset\n",
    "\n",
    "amnesty_qa = load_dataset(\"explodinggradients/amnesty_qa\", \"english_v2\", trust_remote_code=True)\n",
    "df = pd.DataFrame(amnesty_qa[\"eval\"].select(range(10)))"
   ]
  },
  {
   "cell_type": "code",
   "execution_count": 5,
   "metadata": {},
   "outputs": [
    {
     "data": {
      "text/html": [
       "<div>\n",
       "<style scoped>\n",
       "    .dataframe tbody tr th:only-of-type {\n",
       "        vertical-align: middle;\n",
       "    }\n",
       "\n",
       "    .dataframe tbody tr th {\n",
       "        vertical-align: top;\n",
       "    }\n",
       "\n",
       "    .dataframe thead th {\n",
       "        text-align: right;\n",
       "    }\n",
       "</style>\n",
       "<table border=\"1\" class=\"dataframe\">\n",
       "  <thead>\n",
       "    <tr style=\"text-align: right;\">\n",
       "      <th></th>\n",
       "      <th>question</th>\n",
       "      <th>ground_truth</th>\n",
       "      <th>answer</th>\n",
       "      <th>contexts</th>\n",
       "    </tr>\n",
       "  </thead>\n",
       "  <tbody>\n",
       "    <tr>\n",
       "      <th>0</th>\n",
       "      <td>What are the global implications of the USA Su...</td>\n",
       "      <td>The global implications of the USA Supreme Cou...</td>\n",
       "      <td>The global implications of the USA Supreme Cou...</td>\n",
       "      <td>[- In 2022, the USA Supreme Court handed down ...</td>\n",
       "    </tr>\n",
       "    <tr>\n",
       "      <th>1</th>\n",
       "      <td>Which companies are the main contributors to G...</td>\n",
       "      <td>According to the Carbon Majors database, the m...</td>\n",
       "      <td>According to the Carbon Majors database, the m...</td>\n",
       "      <td>[In recent years, there has been increasing pr...</td>\n",
       "    </tr>\n",
       "    <tr>\n",
       "      <th>2</th>\n",
       "      <td>Which private companies in the Americas are th...</td>\n",
       "      <td>The largest private companies in the Americas ...</td>\n",
       "      <td>According to the Carbon Majors database, the l...</td>\n",
       "      <td>[The issue of greenhouse gas emissions has bec...</td>\n",
       "    </tr>\n",
       "    <tr>\n",
       "      <th>3</th>\n",
       "      <td>What action did Amnesty International urge its...</td>\n",
       "      <td>Amnesty International urged its supporters to ...</td>\n",
       "      <td>Amnesty International urged its supporters to ...</td>\n",
       "      <td>[In the case of the Ogoni 9, Amnesty Internati...</td>\n",
       "    </tr>\n",
       "    <tr>\n",
       "      <th>4</th>\n",
       "      <td>What are the recommendations made by Amnesty I...</td>\n",
       "      <td>The recommendations made by Amnesty Internatio...</td>\n",
       "      <td>Amnesty International made several recommendat...</td>\n",
       "      <td>[In recent years, Amnesty International has fo...</td>\n",
       "    </tr>\n",
       "    <tr>\n",
       "      <th>5</th>\n",
       "      <td>Who are the target audience of the two books c...</td>\n",
       "      <td>The target audience of the two books created b...</td>\n",
       "      <td>The target audience of the two books created b...</td>\n",
       "      <td>[In addition to children, parents, teachers, a...</td>\n",
       "    </tr>\n",
       "    <tr>\n",
       "      <th>6</th>\n",
       "      <td>Which right guarantees access to comprehensive...</td>\n",
       "      <td>The right that guarantees access to comprehens...</td>\n",
       "      <td>The right that guarantees access to comprehens...</td>\n",
       "      <td>[The right to truth is a fundamental human rig...</td>\n",
       "    </tr>\n",
       "    <tr>\n",
       "      <th>7</th>\n",
       "      <td>Who has the right to be fully informed about h...</td>\n",
       "      <td>The victims of gross human rights violations a...</td>\n",
       "      <td>Everyone has the right to be fully informed ab...</td>\n",
       "      <td>[In many cases, the identities of perpetrators...</td>\n",
       "    </tr>\n",
       "    <tr>\n",
       "      <th>8</th>\n",
       "      <td>When can individuals be found guilty under Art...</td>\n",
       "      <td>Individuals can be found guilty under Article ...</td>\n",
       "      <td>Under Article 207.3 of the Russian Criminal Co...</td>\n",
       "      <td>[Article 207.3 of the Russian Criminal Code pe...</td>\n",
       "    </tr>\n",
       "    <tr>\n",
       "      <th>9</th>\n",
       "      <td>When does the prosecution consider statements ...</td>\n",
       "      <td>The prosecution considers statements contrary ...</td>\n",
       "      <td>Under Article 207.3 of the Russian Criminal Co...</td>\n",
       "      <td>[- As long as their statements are contrary to...</td>\n",
       "    </tr>\n",
       "  </tbody>\n",
       "</table>\n",
       "</div>"
      ],
      "text/plain": [
       "                                            question  \\\n",
       "0  What are the global implications of the USA Su...   \n",
       "1  Which companies are the main contributors to G...   \n",
       "2  Which private companies in the Americas are th...   \n",
       "3  What action did Amnesty International urge its...   \n",
       "4  What are the recommendations made by Amnesty I...   \n",
       "5  Who are the target audience of the two books c...   \n",
       "6  Which right guarantees access to comprehensive...   \n",
       "7  Who has the right to be fully informed about h...   \n",
       "8  When can individuals be found guilty under Art...   \n",
       "9  When does the prosecution consider statements ...   \n",
       "\n",
       "                                        ground_truth  \\\n",
       "0  The global implications of the USA Supreme Cou...   \n",
       "1  According to the Carbon Majors database, the m...   \n",
       "2  The largest private companies in the Americas ...   \n",
       "3  Amnesty International urged its supporters to ...   \n",
       "4  The recommendations made by Amnesty Internatio...   \n",
       "5  The target audience of the two books created b...   \n",
       "6  The right that guarantees access to comprehens...   \n",
       "7  The victims of gross human rights violations a...   \n",
       "8  Individuals can be found guilty under Article ...   \n",
       "9  The prosecution considers statements contrary ...   \n",
       "\n",
       "                                              answer  \\\n",
       "0  The global implications of the USA Supreme Cou...   \n",
       "1  According to the Carbon Majors database, the m...   \n",
       "2  According to the Carbon Majors database, the l...   \n",
       "3  Amnesty International urged its supporters to ...   \n",
       "4  Amnesty International made several recommendat...   \n",
       "5  The target audience of the two books created b...   \n",
       "6  The right that guarantees access to comprehens...   \n",
       "7  Everyone has the right to be fully informed ab...   \n",
       "8  Under Article 207.3 of the Russian Criminal Co...   \n",
       "9  Under Article 207.3 of the Russian Criminal Co...   \n",
       "\n",
       "                                            contexts  \n",
       "0  [- In 2022, the USA Supreme Court handed down ...  \n",
       "1  [In recent years, there has been increasing pr...  \n",
       "2  [The issue of greenhouse gas emissions has bec...  \n",
       "3  [In the case of the Ogoni 9, Amnesty Internati...  \n",
       "4  [In recent years, Amnesty International has fo...  \n",
       "5  [In addition to children, parents, teachers, a...  \n",
       "6  [The right to truth is a fundamental human rig...  \n",
       "7  [In many cases, the identities of perpetrators...  \n",
       "8  [Article 207.3 of the Russian Criminal Code pe...  \n",
       "9  [- As long as their statements are contrary to...  "
      ]
     },
     "execution_count": 5,
     "metadata": {},
     "output_type": "execute_result"
    }
   ],
   "source": [
    "df"
   ]
  },
  {
   "cell_type": "code",
   "execution_count": null,
   "metadata": {},
   "outputs": [],
   "source": []
  }
 ],
 "metadata": {
  "kernelspec": {
   "display_name": "Python 3",
   "language": "python",
   "name": "python3"
  },
  "language_info": {
   "codemirror_mode": {
    "name": "ipython",
    "version": 3
   },
   "file_extension": ".py",
   "mimetype": "text/x-python",
   "name": "python",
   "nbconvert_exporter": "python",
   "pygments_lexer": "ipython3",
   "version": "3.12.7"
  }
 },
 "nbformat": 4,
 "nbformat_minor": 2
}
