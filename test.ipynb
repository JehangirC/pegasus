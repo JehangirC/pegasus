{
 "cells": [
  {
   "cell_type": "code",
   "execution_count": null,
   "metadata": {},
   "outputs": [],
   "source": [
    "from evaluator.deepeval_evaluator import DeepEvalEvaluator\n",
    "from evaluator.ragas_evaluator import RagasEvaluator\n",
    "import pandas as pd"
   ]
  },
  {
   "cell_type": "code",
   "execution_count": null,
   "metadata": {},
   "outputs": [],
   "source": [
    "# Example Usage (adjust based on your actual code)\n",
    "deepeval_evaluator = DeepEvalEvaluator(metrics=[\"answer_relevancy\", \"faithfulness\"])\n",
    "ragas_evaluator = RagasEvaluator(metrics=[\"answer_relevancy\", \"context_recall\"])\n",
    "\n",
    "# Create a sample DataFrame (replace with your actual data)\n",
    "data = {\n",
    "    \"question\": [\"What is the capital of France?\", \"What is the highest mountain?\"],\n",
    "    \"answer\": [\"Paris\", \"Mount Everest\"],\n",
    "    \"context\": [\n",
    "        \"France is a country in Europe. Paris is its capital.\",\n",
    "        \"Mount Everest is in the Himalayas.\",\n",
    "    ],\n",
    "    \"expected_answer\": [\n",
    "        \"Paris is the capital of France.\",\n",
    "        \"Mount Everest is the highest mountain in the world.\",\n",
    "    ],\n",
    "}\n",
    "df = pd.DataFrame(data)\n",
    "\n",
    "# Evaluate using DeepEval\n",
    "deepeval_results = deepeval_evaluator.evaluate(df)\n",
    "print(\"DeepEval Results:\", deepeval_results)\n",
    "\n",
    "# Evaluate using Ragas\n",
    "ragas_results = ragas_evaluator.evaluate(df)\n",
    "print(\"Ragas Results:\", ragas_results)"
   ]
  },
  {
   "cell_type": "code",
   "execution_count": null,
   "metadata": {},
   "outputs": [],
   "source": [
    "from evaluator.deepeval_evaluator import DeepEvalEvaluator\n",
    "from evaluator.ragas_evaluator import RagasEvaluator\n",
    "import pandas as pd\n",
    "from main import LLMEvaluator\n",
    "\n",
    "\n",
    "from datasets import load_dataset\n",
    "\n",
    "amnesty_qa = load_dataset(\n",
    "    \"explodinggradients/amnesty_qa\", \"english_v2\", trust_remote_code=True\n",
    ")\n",
    "df = pd.DataFrame(amnesty_qa[\"eval\"].select(range(10)))\n",
    "\n",
    "# Initialize evaluator for Ragas\n",
    "ragas_evaluator = LLMEvaluator(\n",
    "    evaluator_type=\"ragas\", metrics=[\"answer_relevancy\", \"context_recall\"]\n",
    ")\n",
    "\n",
    "# Run Ragas evaluation\n",
    "ragas_results = ragas_evaluator.evaluate(df)\n",
    "\n",
    "# Display Ragas results using rich formatting\n",
    "# ragas_evaluator.display_results(ragas_results, \"Ragas Evaluation Results\")\n",
    "\n",
    "# Initialize evaluator for DeepEval\n",
    "# deepeval_evaluator = LLMEvaluator(evaluator_type=\"deepeval\", metrics=[\"answer_relevancy\", \"faithfulness\"])\n",
    "\n",
    "# Run DeepEval evaluation\n",
    "# deepeval_results = deepeval_evaluator.evaluate(df)\n",
    "\n",
    "# Display DeepEval results using rich formatting\n",
    "# deepeval_evaluator.display_results(deepeval_results, \"DeepEval Evaluation Results\")\n",
    "ragas_results"
   ]
  },
  {
   "cell_type": "code",
   "execution_count": null,
   "metadata": {},
   "outputs": [],
   "source": [
    "import pandas as pd\n",
    "from main import LLMEvaluator\n",
    "\n",
    "\n",
    "from datasets import load_dataset\n",
    "\n",
    "amnesty_qa = load_dataset(\n",
    "    \"explodinggradients/amnesty_qa\", \"english_v2\", trust_remote_code=True\n",
    ")\n",
    "df = pd.DataFrame(amnesty_qa[\"eval\"].select(range(10)))"
   ]
  },
  {
   "cell_type": "code",
   "execution_count": null,
   "metadata": {},
   "outputs": [],
   "source": [
    "df"
   ]
  }
 ],
 "metadata": {
  "kernelspec": {
   "display_name": "Python 3",
   "language": "python",
   "name": "python3"
  },
  "language_info": {
   "codemirror_mode": {
    "name": "ipython",
    "version": 3
   },
   "file_extension": ".py",
   "mimetype": "text/x-python",
   "name": "python",
   "nbconvert_exporter": "python",
   "pygments_lexer": "ipython3",
   "version": "3.12.7"
  }
 },
 "nbformat": 4,
 "nbformat_minor": 2
}
