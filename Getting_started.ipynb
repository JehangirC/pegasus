{
 "cells": [
  {
   "cell_type": "markdown",
   "metadata": {},
   "source": [
    "# How to use Pegasus"
   ]
  },
  {
   "cell_type": "code",
   "execution_count": null,
   "metadata": {
    "tags": []
   },
   "outputs": [],
   "source": [
    "from datasets import load_dataset\n",
    "import pandas as pd\n",
    "\n",
    "from evaluator.deepeval_evaluator import DeepEvalEvaluator\n",
    "from evaluator.ragas_evaluator import RagasEvaluator\n",
    "from main import LLMEvaluator\n",
    "\n",
    "# Example with default column names\n",
    "amnesty_qa = load_dataset(\n",
    "            \"explodinggradients/amnesty_qa\", \"english_v2\", trust_remote_code=True\n",
    "        )\n",
    "df = pd.DataFrame(amnesty_qa[\"eval\"].select(range(1))) # Increase the sample size here\n",
    "\n",
    "df.rename(columns={\"contexts\": \"context\"}, inplace=True)"
   ]
  },
  {
   "cell_type": "code",
   "execution_count": null,
   "metadata": {
    "tags": []
   },
   "outputs": [],
   "source": [
    "df"
   ]
  },
  {
   "cell_type": "code",
   "execution_count": null,
   "metadata": {
    "tags": []
   },
   "outputs": [],
   "source": [
    "ragas_evaluator = LLMEvaluator(\n",
    "            evaluator_type=\"ragas\",\n",
    "            metrics=[\n",
    "                \"answer_relevancy\",\n",
    "                \"context_recall\",\n",
    "                \"context_precision\",\n",
    "                \"faithfulness\",\n",
    "                \"answer_correctness\",\n",
    "            ],\n",
    "        )\n",
    "\n",
    "ragas_results = ragas_evaluator.evaluate(df) #It needs to be a Pandas DataFrame\n",
    "#ragas_evaluator.display_results(ragas_results, \"Ragas Evaluation Results\")\n",
    "ragas_df = ragas_evaluator.to_df(ragas_results)\n",
    "ragas_df"
   ]
  },
  {
   "cell_type": "code",
   "execution_count": null,
   "metadata": {
    "tags": []
   },
   "outputs": [],
   "source": [
    "deepeval_evaluator = LLMEvaluator(\n",
    "            evaluator_type=\"deepeval\",\n",
    "            metrics=[\n",
    "                \"answer_relevancy\",\n",
    "                \"faithfulness\",\n",
    "                \"contextual_precision\",\n",
    "                \"contextual_recall\",\n",
    "                \"bias\",\n",
    "                \"toxicity\",\n",
    "            ],\n",
    "        )\n",
    "deepeval_results = deepeval_evaluator.evaluate(df) #It needs to be a Pandas DataFrame\n",
    "#deepeval_evaluator.display_results(deepeval_results, \"DeepEval Evaluation Results\")\n",
    "dp_df = deepeval_evaluator.to_df(deepeval_results)\n",
    "dp_df"
   ]
  }
 ],
 "metadata": {
  "environment": {
   "kernel": "python3",
   "name": "tf2-cpu.2-11.m125",
   "type": "gcloud",
   "uri": "us-docker.pkg.dev/deeplearning-platform-release/gcr.io/tf2-cpu.2-11:m125"
  },
  "kernelspec": {
   "display_name": "Python 3 (Local)",
   "language": "python",
   "name": "python3"
  },
  "language_info": {
   "codemirror_mode": {
    "name": "ipython",
    "version": 3
   },
   "file_extension": ".py",
   "mimetype": "text/x-python",
   "name": "python",
   "nbconvert_exporter": "python",
   "pygments_lexer": "ipython3",
   "version": "3.10.15"
  }
 },
 "nbformat": 4,
 "nbformat_minor": 4
}
